{
 "cells": [
  {
   "cell_type": "markdown",
   "id": "2b1a1388",
   "metadata": {},
   "source": [
    "## 1. Import Necessary Libraries"
   ]
  },
  {
   "cell_type": "code",
   "execution_count": 1,
   "id": "e093448e",
   "metadata": {},
   "outputs": [],
   "source": [
    "import tensorflow as tf"
   ]
  },
  {
   "cell_type": "code",
   "execution_count": 2,
   "id": "9b7a5279",
   "metadata": {},
   "outputs": [
    {
     "data": {
      "text/plain": [
       "'2.8.0'"
      ]
     },
     "execution_count": 2,
     "metadata": {},
     "output_type": "execute_result"
    }
   ],
   "source": [
    "tf.__version__"
   ]
  },
  {
   "cell_type": "code",
   "execution_count": 3,
   "id": "632de213",
   "metadata": {},
   "outputs": [],
   "source": [
    "from keras.models import Sequential\n",
    "from keras.layers import Flatten, Conv2D, MaxPool2D, Dense, Dropout"
   ]
  },
  {
   "cell_type": "markdown",
   "id": "c3864cc0",
   "metadata": {},
   "source": [
    "## 2. Import Data using Image Augmentation Technique\n",
    "\n",
    "Data is personal"
   ]
  },
  {
   "cell_type": "markdown",
   "id": "753b7362",
   "metadata": {},
   "source": [
    "Data Augmentation: 1 Image - Take different forms (i.e., rotate different sides)\n",
    "- Data Augmentation in data analysis are techniques used to **increase the amount of data by adding slightly modified copies of alredy existing data or newly created synthetic data from existing data.**\n",
    "- It acts as a regularizer and **helps to reduce overfitting when training a machine learning model.**"
   ]
  },
  {
   "cell_type": "code",
   "execution_count": 4,
   "id": "f3de3430",
   "metadata": {},
   "outputs": [],
   "source": [
    "from keras.preprocessing.image import ImageDataGenerator"
   ]
  },
  {
   "cell_type": "code",
   "execution_count": 5,
   "id": "4d7d60c2",
   "metadata": {},
   "outputs": [],
   "source": [
    "#Generate batches of tensor image data with real-time data augmentation.\n",
    "training_data   =ImageDataGenerator(shear_range=0.02, zoom_range=0.10,horizontal_flip=True,vertical_flip=True,rescale=1./255)\n",
    "validation_data =ImageDataGenerator(rescale=1./255)\n",
    "test_data       =ImageDataGenerator(rescale=1./255)"
   ]
  },
  {
   "cell_type": "code",
   "execution_count": 6,
   "id": "302195b1",
   "metadata": {},
   "outputs": [
    {
     "name": "stdout",
     "output_type": "stream",
     "text": [
      "Found 67 images belonging to 5 classes.\n",
      "Found 15 images belonging to 5 classes.\n",
      "Found 25 images belonging to 5 classes.\n"
     ]
    }
   ],
   "source": [
    "training_data_path    =training_data.flow_from_directory(directory=r'F:\\ExcelR\\John DS\\CNN\\Train',\n",
    "                                  target_size=(128,128))\n",
    "validation_data_path  =validation_data.flow_from_directory(directory=r'F:\\ExcelR\\John DS\\CNN\\Validation',\n",
    "                                                          target_size=(128,128))\n",
    "test_data_psth        =test_data.flow_from_directory(directory=r'F:\\ExcelR\\John DS\\CNN\\Test',\n",
    "                                                    target_size=(128,128))"
   ]
  },
  {
   "cell_type": "code",
   "execution_count": 7,
   "id": "36ace6a2",
   "metadata": {},
   "outputs": [
    {
     "data": {
      "text/plain": [
       "{'Akhila': 0, 'Akshaya': 1, 'Amma': 2, 'Ashika': 3, 'Jayanth': 4}"
      ]
     },
     "execution_count": 7,
     "metadata": {},
     "output_type": "execute_result"
    }
   ],
   "source": [
    "training_data_path.class_indices"
   ]
  },
  {
   "cell_type": "code",
   "execution_count": 8,
   "id": "d2c56d01",
   "metadata": {},
   "outputs": [
    {
     "data": {
      "text/plain": [
       "{'Akhila_val': 0,\n",
       " 'Akshaya_val': 1,\n",
       " 'Amma_val': 2,\n",
       " 'Ashika_val': 3,\n",
       " 'Jayanth_val': 4}"
      ]
     },
     "execution_count": 8,
     "metadata": {},
     "output_type": "execute_result"
    }
   ],
   "source": [
    "validation_data_path.class_indices"
   ]
  },
  {
   "cell_type": "markdown",
   "id": "1cce1654",
   "metadata": {},
   "source": [
    "## 3. Model Building"
   ]
  },
  {
   "cell_type": "markdown",
   "id": "cfea7b30",
   "metadata": {},
   "source": [
    "### 3.1 Build the Architecture"
   ]
  },
  {
   "cell_type": "code",
   "execution_count": null,
   "id": "a3681109",
   "metadata": {},
   "outputs": [],
   "source": [
    "model= Sequential()\n",
    "model.add(Conv2D(input_shape=(128,128,3),filters=8,kernel_size=(3,3), strides=1, padding='same', activation='relu'))\n",
    "model.add(MaxPool2D(pool_size=(2,2),strides=2, padding='same'))\n",
    "model.add(Conv2D(filters=16,kernel_size=(3,3), strides=1, padding='same', activation='relu'))\n",
    "model.add(MaxPool2D(pool_size=(2,2),strides=2, padding='same'))\n",
    "model.add(Flatten())\n",
    "model.add(Dropout(0.30))\n",
    "model.add(Dense(units=300, activation='relu'))\n",
    "model.add(Dropout(0.30))\n",
    "model.add(Dense(units=100, activation='relu'))\n",
    "model.add(Dense(units=5, activation='softmax'))\n",
    "model.summary()"
   ]
  },
  {
   "cell_type": "markdown",
   "id": "4fb8ce8c",
   "metadata": {},
   "source": [
    "### 3.2 Model Compilation"
   ]
  },
  {
   "cell_type": "code",
   "execution_count": 10,
   "id": "5cbe8150",
   "metadata": {},
   "outputs": [],
   "source": [
    "model.compile(optimizer='Adam', loss='categorical_crossentropy', metrics='accuracy')"
   ]
  },
  {
   "cell_type": "markdown",
   "id": "0aafda9c",
   "metadata": {},
   "source": [
    "## 4. Model Training"
   ]
  },
  {
   "cell_type": "code",
   "execution_count": 11,
   "id": "2ba88ca1",
   "metadata": {},
   "outputs": [
    {
     "name": "stdout",
     "output_type": "stream",
     "text": [
      "Epoch 1/25\n",
      "3/3 [==============================] - 27s 9s/step - loss: 2.5868 - accuracy: 0.2388 - val_loss: 3.0416 - val_accuracy: 0.2000\n",
      "Epoch 2/25\n",
      "3/3 [==============================] - 30s 15s/step - loss: 2.3635 - accuracy: 0.1940 - val_loss: 1.7473 - val_accuracy: 0.2000\n",
      "Epoch 3/25\n",
      "3/3 [==============================] - 32s 9s/step - loss: 1.8581 - accuracy: 0.2090 - val_loss: 1.7467 - val_accuracy: 0.2000\n",
      "Epoch 4/25\n",
      "3/3 [==============================] - 14s 6s/step - loss: 2.0182 - accuracy: 0.1791 - val_loss: 1.8265 - val_accuracy: 0.2000\n",
      "Epoch 5/25\n",
      "3/3 [==============================] - 12s 6s/step - loss: 1.7863 - accuracy: 0.1493 - val_loss: 1.7298 - val_accuracy: 0.2000\n",
      "Epoch 6/25\n",
      "3/3 [==============================] - 13s 3s/step - loss: 1.6542 - accuracy: 0.1194 - val_loss: 1.6501 - val_accuracy: 0.0667\n",
      "Epoch 7/25\n",
      "3/3 [==============================] - 12s 4s/step - loss: 1.6777 - accuracy: 0.2388 - val_loss: 1.6609 - val_accuracy: 0.1333\n",
      "Epoch 8/25\n",
      "3/3 [==============================] - 13s 4s/step - loss: 1.6790 - accuracy: 0.1493 - val_loss: 1.6725 - val_accuracy: 0.2000\n",
      "Epoch 9/25\n",
      "3/3 [==============================] - 13s 7s/step - loss: 1.6025 - accuracy: 0.2687 - val_loss: 1.6685 - val_accuracy: 0.2000\n",
      "Epoch 10/25\n",
      "3/3 [==============================] - 12s 6s/step - loss: 1.6517 - accuracy: 0.2090 - val_loss: 1.6570 - val_accuracy: 0.2000\n",
      "Epoch 11/25\n",
      "3/3 [==============================] - 12s 3s/step - loss: 1.5991 - accuracy: 0.2388 - val_loss: 1.6419 - val_accuracy: 0.2667\n",
      "Epoch 12/25\n",
      "3/3 [==============================] - 12s 3s/step - loss: 1.5826 - accuracy: 0.2537 - val_loss: 1.6390 - val_accuracy: 0.2000\n",
      "Epoch 13/25\n",
      "3/3 [==============================] - 12s 3s/step - loss: 1.5914 - accuracy: 0.2388 - val_loss: 1.6323 - val_accuracy: 0.2000\n",
      "Epoch 14/25\n",
      "3/3 [==============================] - 12s 3s/step - loss: 1.5769 - accuracy: 0.2985 - val_loss: 1.6300 - val_accuracy: 0.2000\n",
      "Epoch 15/25\n",
      "3/3 [==============================] - 12s 3s/step - loss: 1.5826 - accuracy: 0.2985 - val_loss: 1.6298 - val_accuracy: 0.2667\n",
      "Epoch 16/25\n",
      "3/3 [==============================] - 12s 4s/step - loss: 1.5513 - accuracy: 0.3433 - val_loss: 1.6336 - val_accuracy: 0.0667\n",
      "Epoch 17/25\n",
      "3/3 [==============================] - 12s 4s/step - loss: 1.5568 - accuracy: 0.3433 - val_loss: 1.6368 - val_accuracy: 0.1333\n",
      "Epoch 18/25\n",
      "3/3 [==============================] - 12s 5s/step - loss: 1.5428 - accuracy: 0.3134 - val_loss: 1.6433 - val_accuracy: 0.1333\n",
      "Epoch 19/25\n",
      "3/3 [==============================] - 12s 4s/step - loss: 1.5459 - accuracy: 0.2836 - val_loss: 1.6480 - val_accuracy: 0.1333\n",
      "Epoch 20/25\n",
      "3/3 [==============================] - 12s 3s/step - loss: 1.5284 - accuracy: 0.2836 - val_loss: 1.6524 - val_accuracy: 0.2667\n",
      "Epoch 21/25\n",
      "3/3 [==============================] - 12s 3s/step - loss: 1.5234 - accuracy: 0.3433 - val_loss: 1.6503 - val_accuracy: 0.2667\n",
      "Epoch 22/25\n",
      "3/3 [==============================] - 12s 6s/step - loss: 1.5035 - accuracy: 0.3284 - val_loss: 1.6838 - val_accuracy: 0.1333\n",
      "Epoch 23/25\n",
      "3/3 [==============================] - 12s 3s/step - loss: 1.4859 - accuracy: 0.4030 - val_loss: 1.6764 - val_accuracy: 0.2000\n",
      "Epoch 24/25\n",
      "3/3 [==============================] - 12s 6s/step - loss: 1.5102 - accuracy: 0.2985 - val_loss: 1.6725 - val_accuracy: 0.3333\n",
      "Epoch 25/25\n",
      "3/3 [==============================] - 12s 4s/step - loss: 1.4829 - accuracy: 0.3582 - val_loss: 1.6912 - val_accuracy: 0.3333\n"
     ]
    }
   ],
   "source": [
    "training_model=model.fit(x=training_data_path,batch_size=15,epochs=25, validation_data=validation_data_path)"
   ]
  },
  {
   "cell_type": "markdown",
   "id": "b2922801",
   "metadata": {},
   "source": [
    "## 5. Model Deployment"
   ]
  },
  {
   "cell_type": "code",
   "execution_count": 13,
   "id": "cab2bc46",
   "metadata": {},
   "outputs": [],
   "source": [
    "model.save('image_recognition.h5')"
   ]
  },
  {
   "cell_type": "markdown",
   "id": "f20b514d",
   "metadata": {},
   "source": [
    "## 6. Model Predictions"
   ]
  },
  {
   "cell_type": "code",
   "execution_count": 14,
   "id": "63c058c1",
   "metadata": {},
   "outputs": [
    {
     "data": {
      "text/plain": [
       "{'Akhila': 0, 'Akshaya': 1, 'Amma': 2, 'Ashika': 3, 'Jayanth': 4}"
      ]
     },
     "execution_count": 14,
     "metadata": {},
     "output_type": "execute_result"
    }
   ],
   "source": [
    "training_data_path.class_indices"
   ]
  },
  {
   "cell_type": "code",
   "execution_count": 22,
   "id": "043c4246",
   "metadata": {},
   "outputs": [
    {
     "name": "stdout",
     "output_type": "stream",
     "text": [
      "WARNING:tensorflow:6 out of the last 6 calls to <function Model.make_predict_function.<locals>.predict_function at 0x000002B9BFE80670> triggered tf.function retracing. Tracing is expensive and the excessive number of tracings could be due to (1) creating @tf.function repeatedly in a loop, (2) passing tensors with different shapes, (3) passing Python objects instead of tensors. For (1), please define your @tf.function outside of the loop. For (2), @tf.function has experimental_relax_shapes=True option that relaxes argument shapes that can avoid unnecessary retracing. For (3), please refer to https://www.tensorflow.org/guide/function#controlling_retracing and https://www.tensorflow.org/api_docs/python/tf/function for  more details.\n",
      "Not Recognised\n"
     ]
    }
   ],
   "source": [
    "# Part 3 - Making new predictions\n",
    "from keras.models import load_model\n",
    "import numpy as np\n",
    "from keras.preprocessing import image\n",
    "\n",
    "test_image = image.load_img(r'F:\\ExcelR\\John DS\\CNN\\Train\\Akhila\\hjk.jpg', target_size = (128,128))\n",
    "test_image = image.img_to_array(test_image)\n",
    "test_image = np.expand_dims(test_image, axis = 0)\n",
    "\n",
    "# load model\n",
    "model = load_model('image_recognition.h5')\n",
    "result = model.predict(test_image)\n",
    "\n",
    "if result[0][0] == 1:\n",
    "    print('Akhila')\n",
    "   \n",
    "elif result[0][1] ==1:\n",
    "    print('Akshaya')\n",
    "    \n",
    "elif result[0][2]==1:\n",
    "    print(\"Amma\")\n",
    "    \n",
    "elif result[0][3]==1:\n",
    "    print(\"Ashika\")\n",
    "    \n",
    "elif result[0][4]==1:\n",
    "    print(\"Jayanth\")\n",
    "    \n",
    "else:\n",
    "    print(\"Not Recognised\")"
   ]
  },
  {
   "cell_type": "markdown",
   "id": "c6fc93a7",
   "metadata": {},
   "source": [
    "## THE END"
   ]
  },
  {
   "cell_type": "code",
   "execution_count": null,
   "id": "0ef22625",
   "metadata": {},
   "outputs": [],
   "source": []
  }
 ],
 "metadata": {
  "kernelspec": {
   "display_name": "Python 3",
   "language": "python",
   "name": "python3"
  },
  "language_info": {
   "codemirror_mode": {
    "name": "ipython",
    "version": 3
   },
   "file_extension": ".py",
   "mimetype": "text/x-python",
   "name": "python",
   "nbconvert_exporter": "python",
   "pygments_lexer": "ipython3",
   "version": "3.8.8"
  }
 },
 "nbformat": 4,
 "nbformat_minor": 5
}
